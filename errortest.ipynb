{
 "cells": [
  {
   "cell_type": "code",
   "execution_count": 4,
   "metadata": {},
   "outputs": [
    {
     "name": "stdout",
     "output_type": "stream",
     "text": [
      "The aiida extension is already loaded. To reload it, use:\n",
      "  %reload_ext aiida\n"
     ]
    }
   ],
   "source": [
    "from arhender_aiida_workchains.workchains import DiffuseImplicitHybridWorkChain\n",
    "from aiida.orm import Str, Dict, load_code\n",
    "from aiida_aimall.workchains import QMToAIMWorkchain\n",
    "from aiida.engine import submit\n",
    "from aiida.orm import load_node\n",
    "from aiida import load_profile\n",
    "\n",
    "load_profile()\n",
    "\n",
    "builder = DiffuseImplicitHybridWorkChain.get_builder()\n",
    "\n",
    "with open('basis_file.txt','r') as bf:\n",
    "    diffuse_basis_set_data = bf.readlines()\n",
    "\n",
    "df = ''\n",
    "for line in diffuse_basis_set_data:\n",
    "    df += line\n",
    "df = Str(df)\n",
    "\n",
    "\n",
    "g16_base_params = Dict({'charge': -1,\n",
    "    'basis_set': '6-31g(d)',\n",
    "    'functional': 'hf',\n",
    "    'multiplicity': 1,\n",
    "    'input_parameters': {},\n",
    "    'link0_parameters': {'%chk': 'aiida.chk',\n",
    "    '%mem': '1600MB',\n",
    "    '%nprocshared': 4},\n",
    "    'route_parameters': {'opt': None, 'freq': None}})\n",
    "\n",
    "\n",
    "with open('structure.txt','r') as sf:\n",
    "    structure = sf.readlines()\n",
    "structr=''\n",
    "for line in structure:\n",
    "    structr += line\n",
    "structr = Str(structr)\n",
    "\n",
    "molecule_name = Str('PbiL2mL1_Conformers_13')\n",
    "solvent=  Str('water')\n",
    "builder.input_structure = structr\n",
    "builder.solvent = solvent\n",
    "builder.molecule_name = molecule_name\n",
    "builder.diffuse_basis_set_data = df\n",
    "builder.g16_code = load_code('gaussian@cedar')\n",
    "builder.original_parsed_data = Dict({'freeenergy':123})\n",
    "builder.g16_base_params = g16_base_params\n",
    "submit(builder)"
   ]
  },
  {
   "cell_type": "code",
   "execution_count": 5,
   "metadata": {},
   "outputs": [],
   "source": []
  },
  {
   "cell_type": "code",
   "execution_count": 2,
   "metadata": {},
   "outputs": [
    {
     "name": "stdout",
     "output_type": "stream",
     "text": [
      "The aiida extension is already loaded. To reload it, use:\n",
      "  %reload_ext aiida\n"
     ]
    },
    {
     "data": {
      "text/plain": [
       "<WorkChainNode: uuid: 279a7a60-6ea4-4bd1-a7fe-5ffe6fd9803d (pk: 114016) (aiida_aimall.workchains.QMToAIMWorkchain)>"
      ]
     },
     "execution_count": 2,
     "metadata": {},
     "output_type": "execute_result"
    }
   ],
   "source": [
    "%load_ext aiida\n",
    "%aiida\n",
    "from aiida.orm import load_code, Str, SinglefileData, List\n",
    "from aiida_aimall.data import AimqbParameters\n",
    "from aiida.engine import submit\n",
    "input = SinglefileData('/Users/chemlab/Documents/Coding/LearningAiidaShell/test.inp')\n",
    "orca_code = load_code('orca@cedar')\n",
    "builder = QMToAIMWorkchain.get_builder()\n",
    "builder.shell_code = orca_code\n",
    "builder.shell_metadata = Dict({\n",
    "        'options': {\n",
    "            'withmpi': False,\n",
    "            'prepend_text': 'module load StdEnv/2020; module load gcc/10.3.0 module load openmpi/4.1.1',\n",
    "            'resources': {\n",
    "                'num_machines': 1,\n",
    "                'num_mpiprocs_per_machine': 4,\n",
    "            },\n",
    "            'max_memory_kb': int(3200 * 1.25) * 1024,\n",
    "            'max_wallclock_seconds': 3600\n",
    "        }\n",
    "    })\n",
    "builder.shell_retrieved = List([input.filename.replace('inp','wfx'),input.filename.replace('inp','opt'),])\n",
    "builder.shell_input_file = input\n",
    "builder.shell_cmdline = Str(\"{file}\")\n",
    "builder.aim_code = load_code('aimall@localhost')\n",
    "builder.aim_params = AimqbParameters(parameter_dict={\"naat\": 2, \"nproc\": 2, \"atlaprhocps\": True})\n",
    "submit(builder)"
   ]
  }
 ],
 "metadata": {
  "kernelspec": {
   "display_name": "errortest",
   "language": "python",
   "name": "python3"
  },
  "language_info": {
   "codemirror_mode": {
    "name": "ipython",
    "version": 3
   },
   "file_extension": ".py",
   "mimetype": "text/x-python",
   "name": "python",
   "nbconvert_exporter": "python",
   "pygments_lexer": "ipython3",
   "version": "3.12.4"
  }
 },
 "nbformat": 4,
 "nbformat_minor": 2
}
