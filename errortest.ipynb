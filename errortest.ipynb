{
 "cells": [
  {
   "cell_type": "code",
   "execution_count": 1,
   "metadata": {},
   "outputs": [],
   "source": [
    "from arhender_aiida_workchains.workchains import DiffuseImplicitHybridWorkChain\n",
    "from aiida.orm import Str, Dict, load_code\n",
    "from aiida.engine import submit\n",
    "from aiida import load_profile\n",
    "\n",
    "load_profile()\n",
    "\n",
    "builder = DiffuseImplicitHybridWorkChain.get_builder()\n",
    "\n",
    "with open('basis_file.txt','r') as bf:\n",
    "    diffuse_basis_set_data = bf.readlines()\n",
    "\n",
    "df = ''\n",
    "for line in diffuse_basis_set_data:\n",
    "    df += line\n",
    "df = Str(df)\n",
    "\n",
    "\n",
    "g16_base_params = Dict({'charge': -1,\n",
    "    'basis_set': '6-31g(d)',\n",
    "    'functional': 'hf',\n",
    "    'multiplicity': 1,\n",
    "    'input_parameters': {},\n",
    "    'link0_parameters': {'%chk': 'aiida.chk',\n",
    "    '%mem': '1600MB',\n",
    "    '%nprocshared': 4},\n",
    "    'route_parameters': {'opt': None, 'freq': None}})\n",
    "\n",
    "\n",
    "with open('structure.txt','r') as sf:\n",
    "    structure = sf.readlines()\n",
    "structr=''\n",
    "for line in structure:\n",
    "    structr += line\n",
    "structr = Str(structr)\n",
    "\n",
    "molecule_name = Str('PbiL2mL1_Conformers_13')\n",
    "solvent=  Str('water')\n",
    "builder.input_structure = structr\n",
    "builder.solvent = solvent\n",
    "builder.molecule_name = molecule_name\n",
    "builder.diffuse_basis_set_data = df\n",
    "builder.g16_code = load_code('gaussian@cedar')\n",
    "builder.original_parsed_data = Dict({'freeenergy':123})\n",
    "builder.g16_base_params = g16_base_params\n",
    "node = submit(builder)"
   ]
  },
  {
   "cell_type": "code",
   "execution_count": null,
   "metadata": {},
   "outputs": [],
   "source": []
  }
 ],
 "metadata": {
  "kernelspec": {
   "display_name": "errortest",
   "language": "python",
   "name": "python3"
  },
  "language_info": {
   "codemirror_mode": {
    "name": "ipython",
    "version": 3
   },
   "file_extension": ".py",
   "mimetype": "text/x-python",
   "name": "python",
   "nbconvert_exporter": "python",
   "pygments_lexer": "ipython3",
   "version": "3.12.3"
  }
 },
 "nbformat": 4,
 "nbformat_minor": 2
}
